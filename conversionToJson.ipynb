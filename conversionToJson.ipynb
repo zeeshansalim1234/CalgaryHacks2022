{
  "nbformat": 4,
  "nbformat_minor": 0,
  "metadata": {
    "colab": {
      "name": "Untitled16.ipynb",
      "provenance": [],
      "mount_file_id": "1ZnVbcPUQ7Z780xd2d9B_2fIMhmu6NgLA",
      "authorship_tag": "ABX9TyOjWsDF7nq8vE1ZVZ/AEL1J",
      "include_colab_link": true
    },
    "kernelspec": {
      "name": "python3",
      "display_name": "Python 3"
    },
    "language_info": {
      "name": "python"
    }
  },
  "cells": [
    {
      "cell_type": "markdown",
      "metadata": {
        "id": "view-in-github",
        "colab_type": "text"
      },
      "source": [
        "<a href=\"https://colab.research.google.com/github/zeeshansalim1234/CalgaryHacks2022/blob/main/conversionToJson.ipynb\" target=\"_parent\"><img src=\"https://colab.research.google.com/assets/colab-badge.svg\" alt=\"Open In Colab\"/></a>"
      ]
    },
    {
      "cell_type": "code",
      "source": [
        "import json\n",
        "import os"
      ],
      "metadata": {
        "id": "a6qmznT0j3kQ"
      },
      "execution_count": 4,
      "outputs": []
    },
    {
      "cell_type": "code",
      "execution_count": 11,
      "metadata": {
        "id": "w5tCpBR9jnsY"
      },
      "outputs": [],
      "source": [
        "dataset_file = '/content/drive/MyDrive/emnlp2016-2018.json' \n",
        "\n",
        "with open(dataset_file) as fIn:\n",
        "    papers = json.load(fIn)"
      ]
    },
    {
      "cell_type": "code",
      "source": [
        "print(type(papers))"
      ],
      "metadata": {
        "colab": {
          "base_uri": "https://localhost:8080/"
        },
        "id": "SjTTq3IBlnpz",
        "outputId": "f10efa24-522a-402a-9cb9-1adcdd3b5b66"
      },
      "execution_count": 16,
      "outputs": [
        {
          "output_type": "stream",
          "name": "stdout",
          "text": [
            "<class 'list'>\n"
          ]
        }
      ]
    },
    {
      "cell_type": "code",
      "source": [
        "import pandas as pd\n",
        "\n",
        "dataset_csv = '/content/drive/MyDrive/final_output_500.csv'\n",
        "\n",
        "df = pd.read_csv(dataset_csv)\n",
        "\n",
        "df_new = df.head(500)\n",
        "\n",
        "import numpy as np\n",
        "df_new['abstract'].replace('', np.nan, inplace=True)\n",
        "\n",
        "df_new.dropna(subset=['abstract'], inplace=True)\n",
        "\n"
      ],
      "metadata": {
        "colab": {
          "base_uri": "https://localhost:8080/"
        },
        "id": "GGa_P0TIl26O",
        "outputId": "41f58634-2865-4be7-bdec-f22d64a5ec02"
      },
      "execution_count": 13,
      "outputs": [
        {
          "output_type": "stream",
          "name": "stderr",
          "text": [
            "/usr/local/lib/python3.7/dist-packages/pandas/core/generic.py:6619: SettingWithCopyWarning: \n",
            "A value is trying to be set on a copy of a slice from a DataFrame\n",
            "\n",
            "See the caveats in the documentation: https://pandas.pydata.org/pandas-docs/stable/user_guide/indexing.html#returning-a-view-versus-a-copy\n",
            "  return self._update_inplace(result)\n"
          ]
        }
      ]
    },
    {
      "cell_type": "code",
      "source": [
        "print(type(list(df_new['abstract'])))"
      ],
      "metadata": {
        "colab": {
          "base_uri": "https://localhost:8080/"
        },
        "id": "bf021YasmfxO",
        "outputId": "87ef18b0-3123-45a2-8e97-0965460bfbd9"
      },
      "execution_count": 17,
      "outputs": [
        {
          "output_type": "stream",
          "name": "stdout",
          "text": [
            "<class 'list'>\n"
          ]
        }
      ]
    }
  ]
}