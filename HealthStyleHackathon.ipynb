{
  "nbformat": 4,
  "nbformat_minor": 0,
  "metadata": {
    "colab": {
      "name": "HealthStyleHackathon.ipynb",
      "provenance": [],
      "collapsed_sections": [],
      "mount_file_id": "1Px3yOwrvqkgcm4x3vLjT8mLjQpA6zIuB",
      "authorship_tag": "ABX9TyOGePSkEkPilVBXRs0ll2rS",
      "include_colab_link": true
    },
    "kernelspec": {
      "name": "python3",
      "display_name": "Python 3"
    },
    "language_info": {
      "name": "python"
    }
  },
  "cells": [
    {
      "cell_type": "markdown",
      "metadata": {
        "id": "view-in-github",
        "colab_type": "text"
      },
      "source": [
        "<a href=\"https://colab.research.google.com/github/zeeshansalim1234/CalgaryHacks2022/blob/main/HealthStyleHackathon.ipynb\" target=\"_parent\"><img src=\"https://colab.research.google.com/assets/colab-badge.svg\" alt=\"Open In Colab\"/></a>"
      ]
    },
    {
      "cell_type": "code",
      "execution_count": null,
      "metadata": {
        "id": "Dt5Y8sKaMU_E"
      },
      "outputs": [],
      "source": [
        "pip install sentence-transformers"
      ]
    },
    {
      "cell_type": "markdown",
      "source": [
        "START OF ML\n"
      ],
      "metadata": {
        "id": "qEc-Wf0uMuZJ"
      }
    },
    {
      "cell_type": "code",
      "source": [
        "\n",
        "import re\n",
        "import string\n",
        "import torch\n",
        "import json\n",
        "import os\n",
        "from sentence_transformers import SentenceTransformer, util\n",
        "import pickle\n"
      ],
      "metadata": {
        "id": "3IRudKO4NNbO"
      },
      "execution_count": 12,
      "outputs": []
    },
    {
      "cell_type": "code",
      "source": [
        "import pandas as pd\n",
        "\n",
        "new_dataset = open('/content/drive/MyDrive/metadata.csv', 'r')\n",
        "\n",
        "df = pd.read_csv(new_dataset)\n",
        "\n",
        "df_new = df.head(500)\n"
      ],
      "metadata": {
        "colab": {
          "base_uri": "https://localhost:8080/"
        },
        "id": "z486cEmVNagp",
        "outputId": "8e1b386c-7d4e-4b5d-b801-0de9a7b7ec29"
      },
      "execution_count": 107,
      "outputs": [
        {
          "output_type": "stream",
          "name": "stderr",
          "text": [
            "/usr/local/lib/python3.7/dist-packages/IPython/core/interactiveshell.py:2882: DtypeWarning: Columns (1,4,5,6,13,14,15,16) have mixed types.Specify dtype option on import or set low_memory=False.\n",
            "  exec(code_obj, self.user_global_ns, self.user_ns)\n"
          ]
        }
      ]
    },
    {
      "cell_type": "code",
      "source": [
        "import numpy as np\n",
        "df_new['abstract'].replace('', np.nan, inplace=True)\n",
        "\n",
        "df_new.dropna(subset=['abstract'], inplace=True)\n",
        "\n",
        "df_new"
      ],
      "metadata": {
        "id": "bj9KTLGI9XfZ"
      },
      "execution_count": null,
      "outputs": []
    },
    {
      "cell_type": "code",
      "source": [
        "from google.colab import files\n",
        "\n",
        "df_new.to_csv('final_output_500.csv', encoding = 'utf-8-sig') \n",
        "files.download('final_output_500.csv')"
      ],
      "metadata": {
        "colab": {
          "base_uri": "https://localhost:8080/",
          "height": 17
        },
        "id": "FCZS63uAuEwc",
        "outputId": "54e251d1-4be8-428d-e9e2-320cea68ba00"
      },
      "execution_count": 110,
      "outputs": [
        {
          "output_type": "display_data",
          "data": {
            "application/javascript": [
              "\n",
              "    async function download(id, filename, size) {\n",
              "      if (!google.colab.kernel.accessAllowed) {\n",
              "        return;\n",
              "      }\n",
              "      const div = document.createElement('div');\n",
              "      const label = document.createElement('label');\n",
              "      label.textContent = `Downloading \"${filename}\": `;\n",
              "      div.appendChild(label);\n",
              "      const progress = document.createElement('progress');\n",
              "      progress.max = size;\n",
              "      div.appendChild(progress);\n",
              "      document.body.appendChild(div);\n",
              "\n",
              "      const buffers = [];\n",
              "      let downloaded = 0;\n",
              "\n",
              "      const channel = await google.colab.kernel.comms.open(id);\n",
              "      // Send a message to notify the kernel that we're ready.\n",
              "      channel.send({})\n",
              "\n",
              "      for await (const message of channel.messages) {\n",
              "        // Send a message to notify the kernel that we're ready.\n",
              "        channel.send({})\n",
              "        if (message.buffers) {\n",
              "          for (const buffer of message.buffers) {\n",
              "            buffers.push(buffer);\n",
              "            downloaded += buffer.byteLength;\n",
              "            progress.value = downloaded;\n",
              "          }\n",
              "        }\n",
              "      }\n",
              "      const blob = new Blob(buffers, {type: 'application/binary'});\n",
              "      const a = document.createElement('a');\n",
              "      a.href = window.URL.createObjectURL(blob);\n",
              "      a.download = filename;\n",
              "      div.appendChild(a);\n",
              "      a.click();\n",
              "      div.remove();\n",
              "    }\n",
              "  "
            ],
            "text/plain": [
              "<IPython.core.display.Javascript object>"
            ]
          },
          "metadata": {}
        },
        {
          "output_type": "display_data",
          "data": {
            "application/javascript": [
              "download(\"download_3c9943bd-1687-4f6e-91ab-c837bf2078d7\", \"final_output_500.csv\", 937257)"
            ],
            "text/plain": [
              "<IPython.core.display.Javascript object>"
            ]
          },
          "metadata": {}
        }
      ]
    },
    {
      "cell_type": "code",
      "source": [
        "df_final = pd.read_csv('final_output_500.csv')\n",
        "\n",
        "health = df_final.abstract.values\n",
        "\n",
        "\n",
        "print(len(health))\n",
        "\n",
        "#We then load the allenai-specter model with SentenceTransformers\n",
        "model = SentenceTransformer('allenai-specter')\n",
        "\n"
      ],
      "metadata": {
        "colab": {
          "base_uri": "https://localhost:8080/"
        },
        "id": "_hTrf1zBufOj",
        "outputId": "49769de8-9c44-447a-e37a-10805082762d"
      },
      "execution_count": 111,
      "outputs": [
        {
          "output_type": "stream",
          "name": "stdout",
          "text": [
            "478\n"
          ]
        }
      ]
    },
    {
      "cell_type": "code",
      "source": [
        "#To encode the descriptions to a single string\n",
        "health_text = []\n",
        "\n",
        "for paper in health:\n",
        "    health_text.append(str(paper))\n"
      ],
      "metadata": {
        "id": "St7wbrpYw9Xe"
      },
      "execution_count": 112,
      "outputs": []
    },
    {
      "cell_type": "code",
      "source": [
        "\n",
        "#Compute embeddings for all descriptions\n",
        "corpus_embeddings = model.encode(health_text, convert_to_tensor=True)"
      ],
      "metadata": {
        "id": "R0RAF29Rwxkh"
      },
      "execution_count": 113,
      "outputs": []
    },
    {
      "cell_type": "code",
      "source": [
        "x = torch.tensor(corpus_embeddings)\n",
        "torch.save(x, 'contradictions_papers_with500.pt')"
      ],
      "metadata": {
        "colab": {
          "base_uri": "https://localhost:8080/"
        },
        "id": "MW0f9u-63ljM",
        "outputId": "80318036-1898-4307-a0c1-3a026a662999"
      },
      "execution_count": 115,
      "outputs": [
        {
          "output_type": "stream",
          "name": "stderr",
          "text": [
            "/usr/local/lib/python3.7/dist-packages/ipykernel_launcher.py:1: UserWarning: To copy construct from a tensor, it is recommended to use sourceTensor.clone().detach() or sourceTensor.clone().detach().requires_grad_(True), rather than torch.tensor(sourceTensor).\n",
            "  \"\"\"Entry point for launching an IPython kernel.\n"
          ]
        }
      ]
    },
    {
      "cell_type": "code",
      "source": [
        "from termcolor import colored\n",
        "\n",
        "\n",
        "const = \"https://bmcinfectdis.biomedcentral.com/articles/\"\n",
        "\n",
        "\n",
        "charities = []\n",
        "def search_papers(title):\n",
        "   query_embedding = model.encode(title+'[SEP]', convert_to_tensor=True) # Converts to tensor\n",
        "   search_hits = util.semantic_search(query_embedding, corpus_embeddings,top_k=3)\n",
        "   search_hits = search_hits[0]\n",
        "   count = 0\n",
        "   top_header = \"Top 10 charities related\"\n",
        "   print(colored(top_header,'blue'))\n",
        "   for hit in search_hits:\n",
        "         related_paper = health[hit['corpus_id']]\n",
        "         count += 1\n",
        "         \n",
        "         print(\"similiarity score of \" + str(format(search_hits[count-1]['score'],\".2f\")))\n",
        "         subsetDataFrame = df_final[df_final['abstract'] == related_paper]\n",
        "         print(related_paper)\n",
        "         print(\"\\n\")\n",
        "         k= subsetDataFrame.values\n",
        "         print(const+k[0][5])\n",
        "         print(\"\\n\")\n",
        "        #  a_string = \"Name of Organization\"\n",
        "        #  print(\"\\033[1m\" + a_string + \"\\033[0m\")\n",
        "        #  print(colored(str(k[0][4]), 'red'))\n",
        "        #  print(\" located in \" + str(k[0][7] + \" , Telephone : \" + str(k[0][3])))\n",
        "        #  print( \"Street address: \" + str(k[0][9])+ \"\\n\")\n",
        "         \n",
        "#search_papers(title=input(str()))\n",
        "\n",
        "\n",
        "search_papers(\"what does the study say about the misconceptions about cancer\")\n",
        "\n",
        "# search_papers(\"how does inflamatory disease start from HIV\")"
      ],
      "metadata": {
        "colab": {
          "base_uri": "https://localhost:8080/"
        },
        "id": "mkzEP9I2u-DM",
        "outputId": "91ae2103-47a1-494d-86d6-019e3dd72c73"
      },
      "execution_count": 116,
      "outputs": [
        {
          "output_type": "stream",
          "name": "stdout",
          "text": [
            "\u001b[34mTop 10 charities related\u001b[0m\n",
            "similiarity score of 0.72\n",
            "BACKGROUND: The present study aimed to provide information on awareness of the attributable fraction of cancer causes among the Japanese general population. METHODS: A nationwide representative sample of 2,000 Japanese aged 20 or older was asked about their perception and level of concern about various environmental and genetic risk factors in relation to cancer prevention, as a part of an Omnibus Survey. Interviews were conducted with 1,355 subjects (609 men and 746 women). RESULTS: Among 12 risk factor candidates, the attributable fraction of cancer-causing viral and bacterial infection was considered highest (51%), followed by that of tobacco smoking (43%), stress (39%), and endocrine-disrupting chemicals (37%). On the other hand, the attributable fractions of cancer by charred fish and meat (21%) and alcohol drinking (22%) were considered low compared with other risk factor candidates. For most risk factors, attributable fraction responses were higher in women than in men. As a whole, the subjects tended to respond with higher values than those estimated by epidemiologic evidence in the West. The attributable fraction of cancer speculated to be genetically determined was 32%, while 36% of cancer was considered preventable by improving lifestyle. CONCLUSION: Our results suggest that awareness of the attributable fraction of cancer causes in the Japanese general population tends to be dominated by cancer-causing infection, occupational exposure, air pollution and food additives rather than major lifestyle factors such as diet.\n",
            "\n",
            "\n",
            "https://bmcinfectdis.biomedcentral.com/articles/10.1186/1471-2458-6-2\n",
            "\n",
            "\n",
            "similiarity score of 0.72\n",
            "BACKGROUND: Whether information sources influence health protective behaviours during influenza pandemics or other emerging infectious disease epidemics is uncertain. METHODOLOGY: Data from cross-sectional telephone interviews of 1,001 Hong Kong adults in June, 2009 were tested against theory and data-derived hypothesized associations between trust in (formal/informal) information, understanding, self-efficacy, perceived susceptibility and worry, and hand hygiene and social distancing using Structural Equation Modelling with multigroup comparisons. PRINCIPAL FINDINGS: Trust in formal (government/media) information about influenza was associated with greater reported understanding of A/H1N1 cause (β = 0.36) and A/H1N1 prevention self-efficacy (β = 0.25), which in turn were associated with more hand hygiene (β = 0.19 and β = 0.23, respectively). Trust in informal (interpersonal) information was negatively associated with perceived personal A/H1N1 susceptibility (β = −0.21), which was negatively associated with perceived self-efficacy (β = −0.42) but positively associated with influenza worry (β = 0.44). Trust in informal information was positively associated with influenza worry (β = 0.16) which was in turn associated with greater social distancing (β = 0.36). Multigroup comparisons showed gender differences regarding paths from trust in formal information to understanding of A/H1N1 cause, trust in informal information to understanding of A/H1N1 cause, and understanding of A/H1N1 cause to perceived self-efficacy. CONCLUSIONS/SIGNIFICANCE: Trust in government/media information was more strongly associated with greater self-efficacy and handwashing, whereas trust in informal information was strongly associated with perceived health threat and avoidance behaviour. Risk communication should consider the effect of gender differences.\n",
            "\n",
            "\n",
            "https://bmcinfectdis.biomedcentral.com/articles/10.1371/journal.pone.0013350\n",
            "\n",
            "\n",
            "similiarity score of 0.72\n",
            "The BIG project looks at some of the ethical concerns surrounding globalization and health.\n",
            "\n",
            "\n",
            "https://bmcinfectdis.biomedcentral.com/articles/10.1371/journal.pmed.0030043\n",
            "\n",
            "\n"
          ]
        }
      ]
    }
  ]
}