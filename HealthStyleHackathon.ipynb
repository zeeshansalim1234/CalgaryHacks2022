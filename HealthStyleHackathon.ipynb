{
  "nbformat": 4,
  "nbformat_minor": 0,
  "metadata": {
    "colab": {
      "name": "HealthStyleHackathon.ipynb",
      "provenance": [],
      "collapsed_sections": [],
      "mount_file_id": "1Px3yOwrvqkgcm4x3vLjT8mLjQpA6zIuB",
      "authorship_tag": "ABX9TyMkStcbPXyLA9C7fU3ZeFRq",
      "include_colab_link": true
    },
    "kernelspec": {
      "name": "python3",
      "display_name": "Python 3"
    },
    "language_info": {
      "name": "python"
    }
  },
  "cells": [
    {
      "cell_type": "markdown",
      "metadata": {
        "id": "view-in-github",
        "colab_type": "text"
      },
      "source": [
        "<a href=\"https://colab.research.google.com/github/zeeshansalim1234/CalgaryHacks2022/blob/main/HealthStyleHackathon.ipynb\" target=\"_parent\"><img src=\"https://colab.research.google.com/assets/colab-badge.svg\" alt=\"Open In Colab\"/></a>"
      ]
    },
    {
      "cell_type": "code",
      "execution_count": null,
      "metadata": {
        "id": "Dt5Y8sKaMU_E"
      },
      "outputs": [],
      "source": [
        "pip install sentence-transformers"
      ]
    },
    {
      "cell_type": "markdown",
      "source": [
        "START OF ML\n"
      ],
      "metadata": {
        "id": "qEc-Wf0uMuZJ"
      }
    },
    {
      "cell_type": "code",
      "source": [
        "\n",
        "import re\n",
        "import string\n",
        "import torch\n",
        "import json\n",
        "import os\n",
        "from sentence_transformers import SentenceTransformer, util\n",
        "import pickle\n"
      ],
      "metadata": {
        "id": "3IRudKO4NNbO"
      },
      "execution_count": 12,
      "outputs": []
    },
    {
      "cell_type": "code",
      "source": [
        "import pandas as pd\n",
        "\n",
        "new_dataset = open('/content/drive/MyDrive/metadata.csv', 'r')\n",
        "\n",
        "df = pd.read_csv(new_dataset)\n",
        "\n",
        "df_new = df.head(100)\n"
      ],
      "metadata": {
        "colab": {
          "base_uri": "https://localhost:8080/"
        },
        "id": "z486cEmVNagp",
        "outputId": "48278f21-fb5d-4f8f-bf86-18c1605cd3f7"
      },
      "execution_count": 58,
      "outputs": [
        {
          "output_type": "stream",
          "name": "stderr",
          "text": [
            "/usr/local/lib/python3.7/dist-packages/IPython/core/interactiveshell.py:2882: DtypeWarning: Columns (1,4,5,6,13,14,15,16) have mixed types.Specify dtype option on import or set low_memory=False.\n",
            "  exec(code_obj, self.user_global_ns, self.user_ns)\n"
          ]
        }
      ]
    },
    {
      "cell_type": "code",
      "source": [
        "from google.colab import files\n",
        "\n",
        "df_new.to_csv('output.csv', encoding = 'utf-8-sig') \n",
        "files.download('output.csv')"
      ],
      "metadata": {
        "colab": {
          "base_uri": "https://localhost:8080/",
          "height": 17
        },
        "id": "FCZS63uAuEwc",
        "outputId": "c8586625-6edc-457c-fb3d-b38c2290a47c"
      },
      "execution_count": 59,
      "outputs": [
        {
          "output_type": "display_data",
          "data": {
            "application/javascript": [
              "\n",
              "    async function download(id, filename, size) {\n",
              "      if (!google.colab.kernel.accessAllowed) {\n",
              "        return;\n",
              "      }\n",
              "      const div = document.createElement('div');\n",
              "      const label = document.createElement('label');\n",
              "      label.textContent = `Downloading \"${filename}\": `;\n",
              "      div.appendChild(label);\n",
              "      const progress = document.createElement('progress');\n",
              "      progress.max = size;\n",
              "      div.appendChild(progress);\n",
              "      document.body.appendChild(div);\n",
              "\n",
              "      const buffers = [];\n",
              "      let downloaded = 0;\n",
              "\n",
              "      const channel = await google.colab.kernel.comms.open(id);\n",
              "      // Send a message to notify the kernel that we're ready.\n",
              "      channel.send({})\n",
              "\n",
              "      for await (const message of channel.messages) {\n",
              "        // Send a message to notify the kernel that we're ready.\n",
              "        channel.send({})\n",
              "        if (message.buffers) {\n",
              "          for (const buffer of message.buffers) {\n",
              "            buffers.push(buffer);\n",
              "            downloaded += buffer.byteLength;\n",
              "            progress.value = downloaded;\n",
              "          }\n",
              "        }\n",
              "      }\n",
              "      const blob = new Blob(buffers, {type: 'application/binary'});\n",
              "      const a = document.createElement('a');\n",
              "      a.href = window.URL.createObjectURL(blob);\n",
              "      a.download = filename;\n",
              "      div.appendChild(a);\n",
              "      a.click();\n",
              "      div.remove();\n",
              "    }\n",
              "  "
            ],
            "text/plain": [
              "<IPython.core.display.Javascript object>"
            ]
          },
          "metadata": {}
        },
        {
          "output_type": "display_data",
          "data": {
            "application/javascript": [
              "download(\"download_f5fe2096-c77a-41c6-a24d-c41a8cea0084\", \"output.csv\", 175860)"
            ],
            "text/plain": [
              "<IPython.core.display.Javascript object>"
            ]
          },
          "metadata": {}
        }
      ]
    },
    {
      "cell_type": "code",
      "source": [
        "df_final = pd.read_csv('output.csv')\n",
        "\n",
        "health = df_final.abstract.values\n",
        "\n",
        "\n",
        "print(len(health))\n",
        "\n",
        "#We then load the allenai-specter model with SentenceTransformers\n",
        "model = SentenceTransformer('allenai-specter')\n",
        "\n"
      ],
      "metadata": {
        "colab": {
          "base_uri": "https://localhost:8080/"
        },
        "id": "_hTrf1zBufOj",
        "outputId": "a88349c9-b9a1-410c-8b22-7d0076c24f93"
      },
      "execution_count": 62,
      "outputs": [
        {
          "output_type": "stream",
          "name": "stdout",
          "text": [
            "100\n"
          ]
        }
      ]
    },
    {
      "cell_type": "code",
      "source": [
        "#To encode the descriptions to a single string\n",
        "health_text = []\n",
        "\n",
        "for paper in health:\n",
        "    health_text.append(str(paper))\n"
      ],
      "metadata": {
        "id": "St7wbrpYw9Xe"
      },
      "execution_count": 65,
      "outputs": []
    },
    {
      "cell_type": "code",
      "source": [
        "\n",
        "#Compute embeddings for all descriptions\n",
        "corpus_embeddings = model.encode(health_text, convert_to_tensor=True)"
      ],
      "metadata": {
        "id": "R0RAF29Rwxkh"
      },
      "execution_count": 66,
      "outputs": []
    },
    {
      "cell_type": "code",
      "source": [
        "from termcolor import colored\n",
        "\n",
        "charities = []\n",
        "def search_papers(title):\n",
        "   query_embedding = model.encode(title+'[SEP]', convert_to_tensor=True) # Converts to tensor\n",
        "   search_hits = util.semantic_search(query_embedding, corpus_embeddings,top_k=3)\n",
        "   search_hits = search_hits[0]\n",
        "   count = 0\n",
        "   top_header = \"Top 10 charities related\"\n",
        "   print(colored(top_header,'blue'))\n",
        "   for hit in search_hits:\n",
        "         related_paper = health[hit['corpus_id']]\n",
        "         count += 1\n",
        "         print(related_paper)\n",
        "         print(\"similiarity score of \" + str(format(search_hits[count-1]['score'],\".2f\")))\n",
        "         subsetDataFrame = df_final[df_final['abstract'] == related_paper]\n",
        "         k=subsetDataFrame.values\n",
        "        #  a_string = \"Name of Organization\"\n",
        "        #  print(\"\\033[1m\" + a_string + \"\\033[0m\")\n",
        "        #  print(colored(str(k[0][4]), 'red'))\n",
        "        #  print(\" located in \" + str(k[0][7] + \" , Telephone : \" + str(k[0][3])))\n",
        "        #  print( \"Street address: \" + str(k[0][9])+ \"\\n\")\n",
        "         \n",
        "#search_papers(title=input(str()))\n",
        "\n",
        "\n",
        "search_papers(\"ring vaccination is useless\")\n",
        "\n",
        "# search_papers(\"how does inflamatory disease start from HIV\")"
      ],
      "metadata": {
        "colab": {
          "base_uri": "https://localhost:8080/"
        },
        "id": "mkzEP9I2u-DM",
        "outputId": "2bd27559-c009-4398-ae6b-c594c9ce10b1"
      },
      "execution_count": 76,
      "outputs": [
        {
          "output_type": "stream",
          "name": "stdout",
          "text": [
            "\u001b[34mTop 10 charities related\u001b[0m\n",
            "BACKGROUND: Previous smallpox ring vaccination models based on contact tracing over a network suggest that ring vaccination would be effective, but have not explicitly included response logistics and limited numbers of vaccinators. METHODS: We developed a continuous-time stochastic simulation of smallpox transmission, including network structure, post-exposure vaccination, vaccination of contacts of contacts, limited response capacity, heterogeneity in symptoms and infectiousness, vaccination prior to the discontinuation of routine vaccination, more rapid diagnosis due to public awareness, surveillance of asymptomatic contacts, and isolation of cases. RESULTS: We found that even in cases of very rapidly spreading smallpox, ring vaccination (when coupled with surveillance) is sufficient in most cases to eliminate smallpox quickly, assuming that 95% of household contacts are traced, 80% of workplace or social contacts are traced, and no casual contacts are traced, and that in most cases the ability to trace 1–5 individuals per day per index case is sufficient. If smallpox is assumed to be transmitted very quickly to contacts, it may at times escape containment by ring vaccination, but could be controlled in these circumstances by mass vaccination. CONCLUSIONS: Small introductions of smallpox are likely to be easily contained by ring vaccination, provided contact tracing is feasible. Uncertainties in the nature of bioterrorist smallpox (infectiousness, vaccine efficacy) support continued planning for ring vaccination as well as mass vaccination. If initiated, ring vaccination should be conducted without delays in vaccination, should include contacts of contacts (whenever there is sufficient capacity) and should be accompanied by increased public awareness and surveillance.\n",
            "similiarity score of 0.76\n",
            "BACKGROUND: Because smallpox (variola major) may be used as a biological weapon, we reviewed outbreaks in post-World War II Europe and North America in order to understand smallpox transmission patterns. METHODS: A systematic review was used to identify papers from the National Library of Medicine, Embase, Biosis, Cochrane Library, Defense Technical Information Center, WorldCat, and reference lists of included publications. Two authors reviewed selected papers for smallpox outbreaks. RESULTS: 51 relevant outbreaks were identified from 1,389 publications. The median for the effective first generation reproduction rate (initial R) was 2 (range 0–38). The majority outbreaks were small (less than 5 cases) and contained within one generation. Outbreaks with few hospitalized patients had low initial R values (median of 1) and were prolonged if not initially recognized (median of 3 generations); outbreaks with mostly hospitalized patients had higher initial R values (median 12) and were shorter (median of 3 generations). Index cases with an atypical presentation of smallpox were less likely to have been diagnosed with smallpox; outbreaks in which the index case was not correctly diagnosed were larger (median of 27.5 cases) and longer (median of 3 generations) compared to outbreaks in which the index case was correctly diagnosed (median of 3 cases and 1 generation). CONCLUSION: Patterns of spread during Smallpox outbreaks varied with circumstances, but early detection and implementation of control measures is a most important influence on the magnitude of outbreaks. The majority of outbreaks studied in Europe and North America were controlled within a few generations if detected early.\n",
            "similiarity score of 0.73\n",
            "BACKGROUND: Contact tracing plays an important role in the control of emerging infectious diseases, but little is known yet about its effectiveness. Here we deduce from a generic mathematical model how effectiveness of tracing relates to various aspects of time, such as the course of individual infectivity, the (variability in) time between infection and symptom-based detection, and delays in the tracing process. In addition, the possibility of iteratively tracing of yet asymptomatic infecteds is considered. With these insights we explain why contact tracing was and will be effective for control of smallpox and SARS, only partially effective for foot-and-mouth disease, and likely not effective for influenza. METHODS AND FINDINGS: We investigate contact tracing in a model of an emerging epidemic that is flexible enough to use for most infections. We consider isolation of symptomatic infecteds as the basic scenario, and express effectiveness as the proportion of contacts that need to be traced for a reproduction ratio smaller than 1. We obtain general results for special cases, which are interpreted with respect to the likely success of tracing for influenza, smallpox, SARS, and foot-and-mouth disease epidemics. CONCLUSIONS: We conclude that (1) there is no general predictive formula for the proportion to be traced as there is for the proportion to be vaccinated; (2) variability in time to detection is favourable for effective tracing; (3) tracing effectiveness need not be sensitive to the duration of the latent period and tracing delays; (4) iterative tracing primarily improves effectiveness when single-step tracing is on the brink of being effective.\n",
            "similiarity score of 0.73\n"
          ]
        }
      ]
    }
  ]
}